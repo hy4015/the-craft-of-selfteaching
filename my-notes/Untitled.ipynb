{
 "cells": [
  {
   "cell_type": "code",
   "execution_count": null,
   "metadata": {},
   "outputs": [],
   "source": [
    "#-*- conding:utf-8 -*-\n",
    "import tkinter,datetime\n",
    "def uptime():\n",
    "global TimeLabel\n",
    "TimeLabel[\"text\"] = datetime.datetime.now().strftime('%Y-%m-%d %H:%M:%S:') + \"%d\" %(datetime.datetime.now().microsecond // 100000)\n",
    "win.after(100,uptime)\n",
    "win = tkinter.Tk()\n",
    "win.title(\"当前时间\")\n",
    "win.attributes(\"-topmost\",True)\n",
    "win.geometry(\"%dx%d\" %(200,50))\n",
    "TimeLabel = tkinter.Label(text = \"%s%d\" %(datetime.datetime.now().strftime('%Y-%m-%d %H:%M:%S:'),datetime.datetime.now().microsecond // 100000))\n",
    "TimeLabel.pack(fill=tkinter.BOTH,padx = 10,pady = 8)\n",
    "win.after(100,uptime)\n",
    "win.mainloop()"
   ]
  }
 ],
 "metadata": {
  "kernelspec": {
   "display_name": "Python 3",
   "language": "python",
   "name": "python3"
  },
  "language_info": {
   "codemirror_mode": {
    "name": "ipython",
    "version": 3
   },
   "file_extension": ".py",
   "mimetype": "text/x-python",
   "name": "python",
   "nbconvert_exporter": "python",
   "pygments_lexer": "ipython3",
   "version": "3.7.3"
  }
 },
 "nbformat": 4,
 "nbformat_minor": 2
}
