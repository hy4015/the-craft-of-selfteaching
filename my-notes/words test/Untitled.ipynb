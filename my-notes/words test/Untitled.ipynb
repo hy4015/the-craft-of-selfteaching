{
 "cells": [
  {
   "cell_type": "code",
   "execution_count": 8,
   "metadata": {},
   "outputs": [],
   "source": [
    "def sum_of_word(word):\n",
    "    sum=0\n",
    "    for char in word:\n",
    "        sum += ord(char) - 96\n",
    "        return sum\n",
    "\n",
    "with open('results1.txt', 'w')as result:\n",
    "    with open('words_alpha.txt', 'r')as file:\n",
    "        for word in file.readlines():\n",
    "            if sum_of_word(word.strip()) == 98:\n",
    "                result.write(word)\n",
    "            "
   ]
  },
  {
   "cell_type": "code",
   "execution_count": 7,
   "metadata": {},
   "outputs": [],
   "source": [
    "def sum_of_word(word):\n",
    "    sum = 0\n",
    "    for char in word:\n",
    "        sum += ord(char) - 96\n",
    "    return sum\n",
    "\n",
    "with open('results1.txt', 'w') as result:\n",
    "    with open('words_alpha.txt', 'r') as file:\n",
    "        for word in file.readlines():\n",
    "            if sum_of_word(word.strip()) == 98:\n",
    "                result.write(word)"
   ]
  },
  {
   "cell_type": "code",
   "execution_count": null,
   "metadata": {},
   "outputs": [],
   "source": []
  },
  {
   "cell_type": "code",
   "execution_count": null,
   "metadata": {},
   "outputs": [],
   "source": []
  },
  {
   "cell_type": "code",
   "execution_count": null,
   "metadata": {},
   "outputs": [],
   "source": []
  },
  {
   "cell_type": "code",
   "execution_count": null,
   "metadata": {},
   "outputs": [],
   "source": []
  }
 ],
 "metadata": {
  "kernelspec": {
   "display_name": "Python 3",
   "language": "python",
   "name": "python3"
  },
  "language_info": {
   "codemirror_mode": {
    "name": "ipython",
    "version": 3
   },
   "file_extension": ".py",
   "mimetype": "text/x-python",
   "name": "python",
   "nbconvert_exporter": "python",
   "pygments_lexer": "ipython3",
   "version": "3.7.3"
  }
 },
 "nbformat": 4,
 "nbformat_minor": 2
}
